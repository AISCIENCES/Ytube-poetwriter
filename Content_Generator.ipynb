{
  "nbformat": 4,
  "nbformat_minor": 0,
  "metadata": {
    "colab": {
      "name": "Content Generator.ipynb",
      "provenance": [],
      "collapsed_sections": []
    },
    "kernelspec": {
      "name": "python3",
      "display_name": "Python 3"
    },
    "language_info": {
      "name": "python"
    }
  },
  "cells": [
    {
      "cell_type": "code",
      "metadata": {
        "id": "i-UW7RJehYvQ"
      },
      "source": [
        "import numpy as np\n",
        "import pandas as pd\n",
        "from keras.models import Sequential\n",
        "from keras.layers import Dense\n",
        "from keras.layers import Dropout\n",
        "from keras.layers import LSTM\n",
        "from keras.utils import np_utils"
      ],
      "execution_count": null,
      "outputs": []
    },
    {
      "cell_type": "code",
      "metadata": {
        "colab": {
          "resources": {
            "http://localhost:8080/nbextensions/google.colab/files.js": {
              "data": "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",
              "ok": true,
              "headers": [
                [
                  "content-type",
                  "application/javascript"
                ]
              ],
              "status": 200,
              "status_text": ""
            }
          },
          "base_uri": "https://localhost:8080/",
          "height": 111
        },
        "id": "GKyYciF-7REs",
        "outputId": "b2a196ab-b169-4ebc-ef15-53334a6317a3"
      },
      "source": [
        "from google.colab import files\n",
        "files.upload()"
      ],
      "execution_count": null,
      "outputs": [
        {
          "output_type": "display_data",
          "data": {
            "text/html": [
              "\n",
              "     <input type=\"file\" id=\"files-7c01a65c-b1ec-4bbe-a265-0501f6d70285\" name=\"files[]\" multiple disabled\n",
              "        style=\"border:none\" />\n",
              "     <output id=\"result-7c01a65c-b1ec-4bbe-a265-0501f6d70285\">\n",
              "      Upload widget is only available when the cell has been executed in the\n",
              "      current browser session. Please rerun this cell to enable.\n",
              "      </output>\n",
              "      <script src=\"/nbextensions/google.colab/files.js\"></script> "
            ],
            "text/plain": [
              "<IPython.core.display.HTML object>"
            ]
          },
          "metadata": {}
        },
        {
          "output_type": "stream",
          "name": "stdout",
          "text": [
            "Saving sonnets.txt to sonnets.txt\n"
          ]
        },
        {
          "output_type": "execute_result",
          "data": {
            "text/plain": [
              "{'sonnets.txt': b\"I\\r\\n\\r\\n  From fairest creatures we desire increase,\\r\\n  That thereby beauty's rose might never die,\\r\\n  But as the riper should by time decease,\\r\\n  His tender heir might bear his memory:\\r\\n  But thou, contracted to thine own bright eyes,\\r\\n  Feed'st thy light's flame with self-substantial fuel,\\r\\n  Making a famine where abundance lies,\\r\\n  Thy self thy foe, to thy sweet self too cruel:\\r\\n  Thou that art now the world's fresh ornament,\\r\\n  And only herald to the gaudy spring,\\r\\n  Within thine own bud buriest thy content,\\r\\n  And tender churl mak'st waste in niggarding:\\r\\n    Pity the world, or else this glutton be,\\r\\n    To eat the world's due, by the grave and thee.\\r\\n\\r\\n  II\\r\\n\\r\\n  When forty winters shall besiege thy brow,\\r\\n  And dig deep trenches in thy beauty's field,\\r\\n  Thy youth's proud livery so gazed on now,\\r\\n  Will be a tatter'd weed of small worth held:\\r\\n  Then being asked, where all thy beauty lies,\\r\\n  Where all the treasure of thy lusty days;\\r\\n  To say, within thine own deep sunken eyes,\\r\\n  Were an all-eating shame, and thriftless praise.\\r\\n  How much more praise deserv'd thy beauty's use,\\r\\n  If thou couldst answer 'This fair child of mine\\r\\n  Shall sum my count, and make my old excuse,'\\r\\n  Proving his beauty by succession thine!\\r\\n    This were to be new made when thou art old,\\r\\n    And see thy blood warm when thou feel'st it cold.\\r\\n\\r\\n  III\\r\\n\\r\\n  Look in thy glass and tell the face thou viewest\\r\\n  Now is the time that face should form another;\\r\\n  Whose fresh repair if now thou not renewest,\\r\\n  Thou dost beguile the world, unbless some mother.\\r\\n  For where is she so fair whose unear'd womb\\r\\n  Disdains the tillage of thy husbandry?\\r\\n  Or who is he so fond will be the tomb,\\r\\n  Of his self-love to stop posterity?\\r\\n  Thou art thy mother's glass and she in thee\\r\\n  Calls back the lovely April of her prime;\\r\\n  So thou through windows of thine age shalt see,\\r\\n  Despite of wrinkles this thy golden time.\\r\\n    But if thou live, remember'd not to be,\\r\\n    Die single and thine image dies with thee.\\r\\n\\r\\n  IV\\r\\n\\r\\n  Unthrifty loveliness, why dost thou spend\\r\\n  Upon thy self thy beauty's legacy?\\r\\n  Nature's bequest gives nothing, but doth lend,\\r\\n  And being frank she lends to those are free:\\r\\n  Then, beauteous niggard, why dost thou abuse\\r\\n  The bounteous largess given thee to give?\\r\\n  Profitless usurer, why dost thou use\\r\\n  So great a sum of sums, yet canst not live?\\r\\n  For having traffic with thy self alone,\\r\\n  Thou of thy self thy sweet self dost deceive:\\r\\n  Then how when nature calls thee to be gone,\\r\\n  What acceptable audit canst thou leave?\\r\\n    Thy unused beauty must be tombed with thee,\\r\\n    Which, used, lives th' executor to be.\\r\\n\\r\\n  V\\r\\n\\r\\n  Those hours, that with gentle work did frame\\r\\n  The lovely gaze where every eye doth dwell,\\r\\n  Will play the tyrants to the very same\\r\\n  And that unfair which fairly doth excel;\\r\\n  For never-resting time leads summer on\\r\\n  To hideous winter, and confounds him there;\\r\\n  Sap checked with frost, and lusty leaves quite gone,\\r\\n  Beauty o'er-snowed and bareness every where:\\r\\n  Then were not summer's distillation left,\\r\\n  A liquid prisoner pent in walls of glass,\\r\\n  Beauty's effect with beauty were bereft,\\r\\n  Nor it, nor no remembrance what it was:\\r\\n    But flowers distill'd, though they with winter meet,\\r\\n    Leese but their show; their substance still lives sweet.\\r\\n\\r\\n\\r\\n  VI\\r\\n\\r\\n  Then let not winter's ragged hand deface,\\r\\n  In thee thy summer, ere thou be distill'd:\\r\\n  Make sweet some vial; treasure thou some place\\r\\n  With beauty's treasure ere it be self-kill'd.\\r\\n  That use is not forbidden usury,\\r\\n  Which happies those that pay the willing loan;\\r\\n  That's for thy self to breed another thee,\\r\\n  Or ten times happier, be it ten for one;\\r\\n  Ten times thy self were happier than thou art,\\r\\n  If ten of thine ten times refigur'd thee:\\r\\n  Then what could death do if thou shouldst depart,\\r\\n  Leaving thee living in posterity?\\r\\n    Be not self-will'd, for thou art much too fair\\r\\n    To be death's conquest and make worms thine heir.\\r\\n\\r\\n  VII\\r\\n\\r\\n  Lo! in the orient when the gracious light\\r\\n  Lifts up his burning head, each under eye\\r\\n  Doth homage to his new-appearing sight,\\r\\n  Serving with looks his sacred majesty;\\r\\n  And having climb'd the steep-up heavenly hill,\\r\\n  Resembling strong youth in his middle age,\\r\\n  Yet mortal looks adore his beauty still,\\r\\n  Attending on his golden pilgrimage:\\r\\n  But when from highmost pitch, with weary car,\\r\\n  Like feeble age, he reeleth from the day,\\r\\n  The eyes, 'fore duteous, now converted are\\r\\n  From his low tract, and look another way:\\r\\n    So thou, thyself outgoing in thy noon:\\r\\n    Unlook'd, on diest unless thou get a son.\\r\\n\\r\\n  VIII\\r\\n\\r\\n  Music to hear, why hear'st thou music sadly?\\r\\n  Sweets with sweets war not, joy delights in joy:\\r\\n  Why lov'st thou that which thou receiv'st not gladly,\\r\\n  Or else receiv'st with pleasure thine annoy?\\r\\n  If the true concord of well-tuned sounds,\\r\\n  By unions married, do offend thine ear,\\r\\n  They do but sweetly chide thee, who confounds\\r\\n  In singleness the parts that thou shouldst bear.\\r\\n  Mark how one string, sweet husband to another,\\r\\n  Strikes each in each by mutual ordering;\\r\\n  Resembling sire and child and happy mother,\\r\\n  Who, all in one, one pleasing note do sing:\\r\\n    Whose speechless song being many, seeming one,\\r\\n    Sings this to thee: 'Thou single wilt prove none.'\\r\\n\\r\\n  IX\\r\\n\\r\\n  Is it for fear to wet a widow's eye,\\r\\n  That thou consum'st thy self in single life?\\r\\n  Ah! if thou issueless shalt hap to die,\\r\\n  The world will wail thee like a makeless wife;\\r\\n  The world will be thy widow and still weep\\r\\n  That thou no form of thee hast left behind,\\r\\n  When every private widow well may keep\\r\\n  By children's eyes, her husband's shape in mind:\\r\\n  Look! what an unthrift in the world doth spend\\r\\n  Shifts but his place, for still the world enjoys it;\\r\\n  But beauty's waste hath in the world an end,\\r\\n  And kept unused the user so destroys it.\\r\\n    No love toward others in that bosom sits\\r\\n    That on himself such murd'rous shame commits.\\r\\n\\r\\n  X\\r\\n\\r\\n  For shame! deny that thou bear'st love to any,\\r\\n  Who for thy self art so unprovident.\\r\\n  Grant, if thou wilt, thou art belov'd of many,\\r\\n  But that thou none lov'st is most evident:\\r\\n  For thou art so possess'd with murderous hate,\\r\\n  That 'gainst thy self thou stick'st not to conspire,\\r\\n  Seeking that beauteous roof to ruinate\\r\\n  Which to repair should be thy chief desire.\\r\\n  O! change thy thought, that I may change my mind:\\r\\n  Shall hate be fairer lodg'd than gentle love?\\r\\n  Be, as thy presence is, gracious and kind,\\r\\n  Or to thyself at least kind-hearted prove:\\r\\n    Make thee another self for love of me,\\r\\n    That beauty still may live in thine or thee.\\r\\n\\r\\n  XI\\r\\n\\r\\n  As fast as thou shalt wane, so fast thou grow'st,\\r\\n  In one of thine, from that which thou departest;\\r\\n  And that fresh blood which youngly thou bestow'st,\\r\\n  Thou mayst call thine when thou from youth convertest,\\r\\n  Herein lives wisdom, beauty, and increase;\\r\\n  Without this folly, age, and cold decay:\\r\\n  If all were minded so, the times should cease\\r\\n  And threescore year would make the world away.\\r\\n  Let those whom nature hath not made for store,\\r\\n  Harsh, featureless, and rude, barrenly perish:\\r\\n  Look, whom she best endow'd, she gave thee more;\\r\\n  Which bounteous gift thou shouldst in bounty cherish:\\r\\n    She carv'd thee for her seal, and meant thereby,\\r\\n    Thou shouldst print more, not let that copy die.\\r\\n\\r\\n  XII\\r\\n\\r\\n  When I do count the clock that tells the time,\\r\\n  And see the brave day sunk in hideous night;\\r\\n  When I behold the violet past prime,\\r\\n  And sable curls, all silvered o'er with white;\\r\\n  When lofty trees I see barren of leaves,\\r\\n  Which erst from heat did canopy the herd,\\r\\n  And summer's green all girded up in sheaves,\\r\\n  Borne on the bier with white and bristly beard,\\r\\n  Then of thy beauty do I question make,\\r\\n  That thou among the wastes of time must go,\\r\\n  Since sweets and beauties do themselves forsake\\r\\n  And die as fast as they see others grow;\\r\\n    And nothing 'gainst Time's scythe can make defence\\r\\n    Save breed, to brave him when he takes thee hence.\\r\\n\\r\\n  XIII\\r\\n\\r\\n  O! that you were your self; but, love you are\\r\\n  No longer yours, than you your self here live:\\r\\n  Against this coming end you should prepare,\\r\\n  And your sweet semblance to some other give:\\r\\n  So should that beauty which you hold in lease\\r\\n  Find no determination; then you were\\r\\n  Yourself again, after yourself's decease,\\r\\n  When your sweet issue your sweet form should bear.\\r\\n  Who lets so fair a house fall to decay,\\r\\n  Which husbandry in honour might uphold,\\r\\n  Against the stormy gusts of winter's day\\r\\n  And barren rage of death's eternal cold?\\r\\n    O! none but unthrifts. Dear my love, you know,\\r\\n    You had a father: let your son say so.\\r\\n\\r\\n  XIV\\r\\n\\r\\n  Not from the stars do I my judgement pluck;\\r\\n  And yet methinks I have astronomy,\\r\\n  But not to tell of good or evil luck,\\r\\n  Of plagues, of dearths, or seasons' quality;\\r\\n  Nor can I fortune to brief minutes tell,\\r\\n  Pointing to each his thunder, rain and wind,\\r\\n  Or say with princes if it shall go well\\r\\n  By oft predict that I in heaven find:\\r\\n  But from thine eyes my knowledge I derive,\\r\\n  And constant stars in them I read such art\\r\\n  As 'Truth and beauty shall together thrive,\\r\\n  If from thyself, to store thou wouldst convert';\\r\\n    Or else of thee this I prognosticate:\\r\\n    'Thy end is truth's and beauty's doom and date.'\\r\\n\\r\\n  XV\\r\\n\\r\\n  When I consider every thing that grows\\r\\n  Holds in perfection but a little moment,\\r\\n  That this huge stage presenteth nought but shows\\r\\n  Whereon the stars in secret influence comment;\\r\\n  When I perceive that men as plants increase,\\r\\n  Cheered and checked even by the self-same sky,\\r\\n  Vaunt in their youthful sap, at height decrease,\\r\\n  And wear their brave state out of memory;\\r\\n  Then the conceit of this inconstant stay\\r\\n  Sets you most rich in youth before my sight,\\r\\n  Where wasteful Time debateth with decay\\r\\n  To change your day of youth to sullied night,\\r\\n    And all in war with Time for love of you,\\r\\n    As he takes from you, I engraft you new.\\r\\n\\r\\n  XVI\\r\\n\\r\\n  But wherefore do not you a mightier way\\r\\n  Make war upon this bloody tyrant, Time?\\r\\n  And fortify your self in your decay\\r\\n  With means more blessed than my barren rhyme?\\r\\n  Now stand you on the top of happy hours,\\r\\n  And many maiden gardens, yet unset,\\r\\n  With virtuous wish would bear you living flowers,\\r\\n  Much liker than your painted counterfeit:\\r\\n  So should the lines of life that life repair,\\r\\n  Which this, Time's pencil, or my pupil pen,\\r\\n  Neither in inward worth nor outward fair,\\r\\n  Can make you live your self in eyes of men.\\r\\n    To give away yourself, keeps yourself still,\\r\\n    And you must live, drawn by your own sweet skill.\\r\\n\\r\\n  XVII\\r\\n\\r\\n  Who will believe my verse in time to come,\\r\\n  If it were fill'd with your most high deserts?\\r\\n  Though yet heaven knows it is but as a tomb\\r\\n  Which hides your life, and shows not half your parts.\\r\\n  If I could write the beauty of your eyes,\\r\\n  And in fresh numbers number all your graces,\\r\\n  The age to come would say 'This poet lies;\\r\\n  Such heavenly touches ne'er touch'd earthly faces.'\\r\\n  So should my papers, yellow'd with their age,\\r\\n  Be scorn'd, like old men of less truth than tongue,\\r\\n  And your true rights be term'd a poet's rage\\r\\n  And stretched metre of an antique song:\\r\\n    But were some child of yours alive that time,\\r\\n    You should live twice,--in it, and in my rhyme.\\r\\n\\r\\n  XVIII\\r\\n\\r\\n  Shall I compare thee to a summer's day?\\r\\n  Thou art more lovely and more temperate:\\r\\n  Rough winds do shake the darling buds of May,\\r\\n  And summer's lease hath all too short a date:\\r\\n  Sometime too hot the eye of heaven shines,\\r\\n  And often is his gold complexion dimm'd,\\r\\n  And every fair from fair sometime declines,\\r\\n  By chance, or nature's changing course untrimm'd:\\r\\n  But thy eternal summer shall not fade,\\r\\n  Nor lose possession of that fair thou ow'st,\\r\\n  Nor shall death brag thou wander'st in his shade,\\r\\n  When in eternal lines to time thou grow'st,\\r\\n    So long as men can breathe, or eyes can see,\\r\\n    So long lives this, and this gives life to thee.\\r\\n\\r\\n  XIX\\r\\n\\r\\n  Devouring Time, blunt thou the lion's paws,\\r\\n  And make the earth devour her own sweet brood;\\r\\n  Pluck the keen teeth from the fierce tiger's jaws,\\r\\n  And burn the long-liv'd phoenix, in her blood;\\r\\n  Make glad and sorry seasons as thou fleets,\\r\\n  And do whate'er thou wilt, swift-footed Time,\\r\\n  To the wide world and all her fading sweets;\\r\\n  But I forbid thee one most heinous crime:\\r\\n  O! carve not with thy hours my love's fair brow,\\r\\n  Nor draw no lines there with thine antique pen;\\r\\n  Him in thy course untainted do allow\\r\\n  For beauty's pattern to succeeding men.\\r\\n    Yet, do thy worst old Time: despite thy wrong,\\r\\n    My love shall in my verse ever live young.\\r\\n\\r\\n  XX\\r\\n\\r\\n  A woman's face with nature's own hand painted,\\r\\n  Hast thou, the master mistress of my passion;\\r\\n  A woman's gentle heart, but not acquainted\\r\\n  With shifting change, as is false women's fashion:\\r\\n  An eye more bright than theirs, less false in rolling,\\r\\n  Gilding the object whereupon it gazeth;\\r\\n  A man in hue all 'hues' in his controlling,\\r\\n  Which steals men's eyes and women's souls amazeth.\\r\\n  And for a woman wert thou first created;\\r\\n  Till Nature, as she wrought thee, fell a-doting,\\r\\n  And by addition me of thee defeated,\\r\\n  By adding one thing to my purpose nothing.\\r\\n    But since she prick'd thee out for women's pleasure,\\r\\n    Mine be thy love and thy love's use their treasure.\\r\\n\\r\\n  XXI\\r\\n\\r\\n  So is it not with me as with that Muse,\\r\\n  Stirr'd by a painted beauty to his verse,\\r\\n  Who heaven itself for ornament doth use\\r\\n  And every fair with his fair doth rehearse,\\r\\n  Making a couplement of proud compare.\\r\\n  With sun and moon, with earth and sea's rich gems,\\r\\n  With April's first-born flowers, and all things rare,\\r\\n  That heaven's air in this huge rondure hems.\\r\\n  O! let me, true in love, but truly write,\\r\\n  And then believe me, my love is as fair\\r\\n  As any mother's child, though not so bright\\r\\n  As those gold candles fix'd in heaven's air:\\r\\n    Let them say more that like of hearsay well;\\r\\n    I will not praise that purpose not to sell.\\r\\n\\r\\n  XXII\\r\\n\\r\\n  My glass shall not persuade me I am old,\\r\\n  So long as youth and thou are of one date;\\r\\n  But when in thee time's furrows I behold,\\r\\n  Then look I death my days should expiate.\\r\\n  For all that beauty that doth cover thee,\\r\\n  Is but the seemly raiment of my heart,\\r\\n  Which in thy breast doth live, as thine in me:\\r\\n  How can I then be elder than thou art?\\r\\n  O! therefore love, be of thyself so wary\\r\\n  As I, not for myself, but for thee will;\\r\\n  Bearing thy heart, which I will keep so chary\\r\\n  As tender nurse her babe from faring ill.\\r\\n    Presume not on thy heart when mine is slain,\\r\\n    Thou gav'st me thine not to give back again.\\r\\n\\r\\n  XXIII\\r\\n\\r\\n  As an unperfect actor on the stage,\\r\\n  Who with his fear is put beside his part,\\r\\n  Or some fierce thing replete with too much rage,\\r\\n  Whose strength's abundance weakens his own heart;\\r\\n  So I, for fear of trust, forget to say\\r\\n  The perfect ceremony of love's rite,\\r\\n  And in mine own love's strength seem to decay,\\r\\n  O'ercharg'd with burthen of mine own love's might.\\r\\n  O! let my looks be then the eloquence\\r\\n  And dumb presagers of my speaking breast,\\r\\n  Who plead for love, and look for recompense,\\r\\n  More than that tongue that more hath more express'd.\\r\\n    O! learn to read what silent love hath writ:\\r\\n    To hear with eyes belongs to love's fine wit.\\r\\n\\r\\n  XXIV\\r\\n\\r\\n  Mine eye hath play'd the painter and hath stell'd,\\r\\n  Thy beauty's form in table of my heart;\\r\\n  My body is the frame wherein 'tis held,\\r\\n  And perspective it is best painter's art.\\r\\n  For through the painter must you see his skill,\\r\\n  To find where your true image pictur'd lies,\\r\\n  Which in my bosom's shop is hanging still,\\r\\n  That hath his windows glazed with thine eyes.\\r\\n  Now see what good turns eyes for eyes have done:\\r\\n  Mine eyes have drawn thy shape, and thine for me\\r\\n  Are windows to my breast, where-through the sun\\r\\n  Delights to peep, to gaze therein on thee;\\r\\n    Yet eyes this cunning want to grace their art,\\r\\n    They draw but what they see, know not the heart.\\r\\n\\r\\n  XXV\\r\\n\\r\\n  Let those who are in favour with their stars\\r\\n  Of public honour and proud titles boast,\\r\\n  Whilst I, whom fortune of such triumph bars\\r\\n  Unlook'd for joy in that I honour most.\\r\\n  Great princes' favourites their fair leaves spread\\r\\n  But as the marigold at the sun's eye,\\r\\n  And in themselves their pride lies buried,\\r\\n  For at a frown they in their glory die.\\r\\n  The painful warrior famoused for fight,\\r\\n  After a thousand victories once foil'd,\\r\\n  Is from the book of honour razed quite,\\r\\n  And all the rest forgot for which he toil'd:\\r\\n    Then happy I, that love and am belov'd,\\r\\n    Where I may not remove nor be remov'd.\\r\\n\\r\\n  XXVI\\r\\n\\r\\n  Lord of my love, to whom in vassalage\\r\\n  Thy merit hath my duty strongly knit,\\r\\n  To thee I send this written embassage,\\r\\n  To witness duty, not to show my wit:\\r\\n  Duty so great, which wit so poor as mine\\r\\n  May make seem bare, in wanting words to show it,\\r\\n  But that I hope some good conceit of thine\\r\\n  In thy soul's thought, all naked, will bestow it:\\r\\n  Till whatsoever star that guides my moving,\\r\\n  Points on me graciously with fair aspect,\\r\\n  And puts apparel on my tatter'd loving,\\r\\n  To show me worthy of thy sweet respect:\\r\\n    Then may I dare to boast how I do love thee;\\r\\n    Till then, not show my head where thou mayst prove me.\\r\\n\\r\\n  XXVII\\r\\n\\r\\n  Weary with toil, I haste me to my bed,\\r\\n  The dear respose for limbs with travel tir'd;\\r\\n  But then begins a journey in my head\\r\\n  To work my mind, when body's work's expired:\\r\\n  For then my thoughts--from far where I abide--\\r\\n  Intend a zealous pilgrimage to thee,\\r\\n  And keep my drooping eyelids open wide,\\r\\n  Looking on darkness which the blind do see:\\r\\n  Save that my soul's imaginary sight\\r\\n  Presents thy shadow to my sightless view,\\r\\n  Which, like a jewel hung in ghastly night,\\r\\n  Makes black night beauteous, and her old face new.\\r\\n    Lo! thus, by day my limbs, by night my mind,\\r\\n    For thee, and for myself, no quiet find.\\r\\n\\r\\n  XXVIII\\r\\n\\r\\n  How can I then return in happy plight,\\r\\n  That am debarre'd the benefit of rest?\\r\\n  When day's oppression is not eas'd by night,\\r\\n  But day by night and night by day oppress'd,\\r\\n  And each, though enemies to either's reign,\\r\\n  Do in consent shake hands to torture me,\\r\\n  The one by toil, the other to complain\\r\\n  How far I toil, still farther off from thee.\\r\\n  I tell the day, to please him thou art bright,\\r\\n  And dost him grace when clouds do blot the heaven:\\r\\n  So flatter I the swart-complexion'd night,\\r\\n  When sparkling stars twire not thou gild'st the even.\\r\\n    But day doth daily draw my sorrows longer,\\r\\n    And night doth nightly make grief's length seem stronger.\\r\\n\\r\\n  XXIX\\r\\n\\r\\n  When in disgrace with fortune and men's eyes\\r\\n  I all alone beweep my outcast state,\\r\\n  And trouble deaf heaven with my bootless cries,\\r\\n  And look upon myself, and curse my fate,\\r\\n  Wishing me like to one more rich in hope,\\r\\n  Featur'd like him, like him with friends possess'd,\\r\\n  Desiring this man's art, and that man's scope,\\r\\n  With what I most enjoy contented least;\\r\\n  Yet in these thoughts my self almost despising,\\r\\n  Haply I think on thee,-- and then my state,\\r\\n  Like to the lark at break of day arising\\r\\n  From sullen earth, sings hymns at heaven's gate;\\r\\n    For thy sweet love remember'd such wealth brings\\r\\n    That then I scorn to change my state with kings.\\r\\n\\r\\n  XXX\\r\\n\\r\\n  When to the sessions of sweet silent thought\\r\\n  I summon up remembrance of things past,\\r\\n  I sigh the lack of many a thing I sought,\\r\\n  And with old woes new wail my dear time's waste:\\r\\n  Then can I drown an eye, unused to flow,\\r\\n  For precious friends hid in death's dateless night,\\r\\n  And weep afresh love's long since cancell'd woe,\\r\\n  And moan the expense of many a vanish'd sight:\\r\\n  Then can I grieve at grievances foregone,\\r\\n  And heavily from woe to woe tell o'er\\r\\n  The sad account of fore-bemoaned moan,\\r\\n  Which I new pay as if not paid before.\\r\\n    But if the while I think on thee, dear friend,\\r\\n    All losses are restor'd and sorrows end.\\r\\n\\r\\n  XXXI\\r\\n\\r\\n  Thy bosom is endeared with all hearts,\\r\\n  Which I by lacking have supposed dead;\\r\\n  And there reigns Love, and all Love's loving parts,\\r\\n  And all those friends which I thought buried.\\r\\n  How many a holy and obsequious tear\\r\\n  Hath dear religious love stol'n from mine eye,\\r\\n  As interest of the dead, which now appear\\r\\n  But things remov'd that hidden in thee lie!\\r\\n  Thou art the grave where buried love doth live,\\r\\n  Hung with the trophies of my lovers gone,\\r\\n  Who all their parts of me to thee did give,\\r\\n  That due of many now is thine alone:\\r\\n    Their images I lov'd, I view in thee,\\r\\n    And thou--all they--hast all the all of me.\\r\\n\\r\\n  XXXII\\r\\n\\r\\n  If thou survive my well-contented day,\\r\\n  When that churl Death my bones with dust shall cover\\r\\n  And shalt by fortune once more re-survey\\r\\n  These poor rude lines of thy deceased lover,\\r\\n  Compare them with the bett'ring of the time,\\r\\n  And though they be outstripp'd by every pen,\\r\\n  Reserve them for my love, not for their rhyme,\\r\\n  Exceeded by the height of happier men.\\r\\n  O! then vouchsafe me but this loving thought:\\r\\n  'Had my friend's Muse grown with this growing age,\\r\\n  A dearer birth than this his love had brought,\\r\\n  To march in ranks of better equipage:\\r\\n    But since he died and poets better prove,\\r\\n    Theirs for their style I'll read, his for his love'.\\r\\n\\r\\n  XXXIII\\r\\n\\r\\n  Full many a glorious morning have I seen\\r\\n  Flatter the mountain tops with sovereign eye,\\r\\n  Kissing with golden face the meadows green,\\r\\n  Gilding pale streams with heavenly alchemy;\\r\\n  Anon permit the basest clouds to ride\\r\\n  With ugly rack on his celestial face,\\r\\n  And from the forlorn world his visage hide,\\r\\n  Stealing unseen to west with this disgrace:\\r\\n  Even so my sun one early morn did shine,\\r\\n  With all triumphant splendour on my brow;\\r\\n  But out! alack! he was but one hour mine,\\r\\n  The region cloud hath mask'd him from me now.\\r\\n    Yet him for this my love no whit disdaineth;\\r\\n    Suns of the world may stain when heaven's sun staineth.\\r\\n\\r\\n  XXXIV\\r\\n\\r\\n  Why didst thou promise such a beauteous day,\\r\\n  And make me travel forth without my cloak,\\r\\n  To let base clouds o'ertake me in my way,\\r\\n  Hiding thy bravery in their rotten smoke?\\r\\n  'Tis not enough that through the cloud thou break,\\r\\n  To dry the rain on my storm-beaten face,\\r\\n  For no man well of such a salve can speak,\\r\\n  That heals the wound, and cures not the disgrace:\\r\\n  Nor can thy shame give physic to my grief;\\r\\n  Though thou repent, yet I have still the loss:\\r\\n  The offender's sorrow lends but weak relief\\r\\n  To him that bears the strong offence's cross.\\r\\n    Ah! but those tears are pearl which thy love sheds,\\r\\n    And they are rich and ransom all ill deeds.\\r\\n\\r\\n  XXXV\\r\\n\\r\\n  No more be griev'd at that which thou hast done:\\r\\n  Roses have thorns, and silver fountains mud:\\r\\n  Clouds and eclipses stain both moon and sun,\\r\\n  And loathsome canker lives in sweetest bud.\\r\\n  All men make faults, and even I in this,\\r\\n  Authorizing thy trespass with compare,\\r\\n  Myself corrupting, salving thy amiss,\\r\\n  Excusing thy sins more than thy sins are;\\r\\n  For to thy sensual fault I bring in sense,--\\r\\n  Thy adverse party is thy advocate,--\\r\\n  And 'gainst myself a lawful plea commence:\\r\\n  Such civil war is in my love and hate,\\r\\n    That I an accessary needs must be,\\r\\n    To that sweet thief which sourly robs from me.\\r\\n\\r\\n  XXXVI\\r\\n\\r\\n  Let me confess that we two must be twain,\\r\\n  Although our undivided loves are one:\\r\\n  So shall those blots that do with me remain,\\r\\n  Without thy help, by me be borne alone.\\r\\n  In our two loves there is but one respect,\\r\\n  Though in our lives a separable spite,\\r\\n  Which though it alter not love's sole effect,\\r\\n  Yet doth it steal sweet hours from love's delight.\\r\\n  I may not evermore acknowledge thee,\\r\\n  Lest my bewailed guilt should do thee shame,\\r\\n  Nor thou with public kindness honour me,\\r\\n  Unless thou take that honour from thy name:\\r\\n    But do not so, I love thee in such sort,\\r\\n    As thou being mine, mine is thy good report.\\r\\n\\r\\n  XXXVII\\r\\n\\r\\n  As a decrepit father takes delight\\r\\n  To see his active child do deeds of youth,\\r\\n  So I, made lame by Fortune's dearest spite,\\r\\n  Take all my comfort of thy worth and truth;\\r\\n  For whether beauty, birth, or wealth, or wit,\\r\\n  Or any of these all, or all, or more,\\r\\n  Entitled in thy parts, do crowned sit,\\r\\n  I make my love engrafted, to this store:\\r\\n  So then I am not lame, poor, nor despis'd,\\r\\n  Whilst that this shadow doth such substance give\\r\\n  That I in thy abundance am suffic'd,\\r\\n  And by a part of all thy glory live.\\r\\n    Look what is best, that best I wish in thee:\\r\\n    This wish I have; then ten times happy me!\"}"
            ]
          },
          "metadata": {},
          "execution_count": 3
        }
      ]
    },
    {
      "cell_type": "code",
      "metadata": {
        "id": "C5EmONO57RGP"
      },
      "source": [
        "text=(open(\"sonnets.txt\").read())\n",
        "text=text.lower().split()"
      ],
      "execution_count": null,
      "outputs": []
    },
    {
      "cell_type": "code",
      "metadata": {
        "colab": {
          "base_uri": "https://localhost:8080/"
        },
        "id": "udK_KFpiGmUY",
        "outputId": "21246927-a6ae-470b-cd99-3d16c5ab72d6"
      },
      "source": [
        "text.__len__()"
      ],
      "execution_count": null,
      "outputs": [
        {
          "output_type": "execute_result",
          "data": {
            "text/plain": [
              "4224"
            ]
          },
          "metadata": {},
          "execution_count": 31
        }
      ]
    },
    {
      "cell_type": "code",
      "metadata": {
        "id": "FoLI_D4Z7RKw"
      },
      "source": [
        "characters = sorted(list(set(text)))\n",
        "n_to_char = {n:char for n, char in enumerate(characters)}\n",
        "char_to_n = {char:n for n, char in enumerate(characters)}"
      ],
      "execution_count": null,
      "outputs": []
    },
    {
      "cell_type": "code",
      "metadata": {
        "id": "DehejhLM7RTE"
      },
      "source": [
        "X = []\n",
        "Y = []\n",
        "length = len(text)\n",
        "seq_length = 100\n",
        "for i in range(0, length-seq_length, 1):\n",
        "    sequence = text[i:i + seq_length]\n",
        "    label =text[i + seq_length]\n",
        "    X.append([char_to_n[char] for char in sequence])\n",
        "    Y.append(char_to_n[label])"
      ],
      "execution_count": null,
      "outputs": []
    },
    {
      "cell_type": "code",
      "metadata": {
        "id": "OLvLAXEb7RUY"
      },
      "source": [
        "X_modified = np.reshape(X, (len(X), seq_length, 1))\n",
        "X_modified = X_modified / float(len(characters))\n",
        "Y_modified = np_utils.to_categorical(Y)"
      ],
      "execution_count": null,
      "outputs": []
    },
    {
      "cell_type": "code",
      "metadata": {
        "id": "iBbyUritZ3-Q"
      },
      "source": [
        "model = Sequential()\n",
        "model.add(LSTM(400, input_shape=(X_modified.shape[1], X_modified.shape[2]), return_sequences=True))\n",
        "model.add(Dropout(0.2))\n",
        "model.add(LSTM(400))\n",
        "model.add(Dropout(0.2))\n",
        "model.add(Dense(Y_modified.shape[1], activation='softmax'))\n",
        "model.compile(loss='categorical_crossentropy', optimizer='adam')"
      ],
      "execution_count": null,
      "outputs": []
    },
    {
      "cell_type": "code",
      "metadata": {
        "colab": {
          "base_uri": "https://localhost:8080/"
        },
        "id": "S1eFmSghFcdi",
        "outputId": "384ddc58-8c7a-4fa8-a9cd-bb8825e1cbdd"
      },
      "source": [
        "model.fit(X_modified,Y_modified,epochs=10,batch_size=200,verbose=2)"
      ],
      "execution_count": null,
      "outputs": [
        {
          "metadata": {
            "tags": null
          },
          "name": "stdout",
          "output_type": "stream",
          "text": [
            "Epoch 1/10\n",
            "21/21 - 99s - loss: 6.9029 - 99s/epoch - 5s/step\n",
            "Epoch 2/10\n",
            "21/21 - 99s - loss: 6.4969 - 99s/epoch - 5s/step\n",
            "Epoch 3/10\n",
            "21/21 - 99s - loss: 6.4460 - 99s/epoch - 5s/step\n",
            "Epoch 4/10\n",
            "21/21 - 99s - loss: 6.4198 - 99s/epoch - 5s/step\n",
            "Epoch 5/10\n",
            "21/21 - 99s - loss: 6.4176 - 99s/epoch - 5s/step\n",
            "Epoch 6/10\n",
            "21/21 - 99s - loss: 6.4130 - 99s/epoch - 5s/step\n",
            "Epoch 7/10\n",
            "21/21 - 99s - loss: 6.4140 - 99s/epoch - 5s/step\n",
            "Epoch 8/10\n",
            "21/21 - 99s - loss: 6.4122 - 99s/epoch - 5s/step\n",
            "Epoch 9/10\n",
            "21/21 - 99s - loss: 6.4083 - 99s/epoch - 5s/step\n",
            "Epoch 10/10\n"
          ]
        }
      ]
    },
    {
      "cell_type": "code",
      "metadata": {
        "id": "TAXhArPmZ3_7",
        "colab": {
          "base_uri": "https://localhost:8080/"
        },
        "outputId": "ae8f7947-6639-4cda-9e18-e46639c627b0"
      },
      "source": [
        "string_mapped = X[5]\n",
        "# generating characters\n",
        "for i in range(5):\n",
        "    x = np.reshape(string_mapped,(1,len(string_mapped), 1))\n",
        "    x = x / float(len(characters))\n",
        "    pred_index = np.argmax(model.predict(x, verbose=2))\n",
        "    seq = [n_to_char[value] for value in string_mapped]\n",
        "    string_mapped.append(pred_index)\n",
        "    string_mapped = string_mapped[1:len(string_mapped)]"
      ],
      "execution_count": null,
      "outputs": [
        {
          "output_type": "stream",
          "name": "stdout",
          "text": [
            "WARNING:tensorflow:Model was constructed with shape (None, 100, 1) for input KerasTensor(type_spec=TensorSpec(shape=(None, 100, 1), dtype=tf.float32, name='lstm_4_input'), name='lstm_4_input', description=\"created by layer 'lstm_4_input'\"), but it was called on an input with incompatible shape (None, 101, 1).\n",
            "1/1 - 1s\n",
            "1/1 - 0s\n",
            "1/1 - 0s\n",
            "1/1 - 0s\n",
            "1/1 - 0s\n"
          ]
        }
      ]
    },
    {
      "cell_type": "code",
      "metadata": {
        "id": "hhclnfPiZ4Dw",
        "colab": {
          "base_uri": "https://localhost:8080/",
          "height": 167
        },
        "outputId": "3c862e2b-ace1-4644-b1fe-70c839972515"
      },
      "source": [
        "''.join(seq)"
      ],
      "execution_count": null,
      "outputs": [
        {
          "output_type": "error",
          "ename": "NameError",
          "evalue": "ignored",
          "traceback": [
            "\u001b[0;31m---------------------------------------------------------------------------\u001b[0m",
            "\u001b[0;31mNameError\u001b[0m                                 Traceback (most recent call last)",
            "\u001b[0;32m<ipython-input-1-cd4de802392f>\u001b[0m in \u001b[0;36m<module>\u001b[0;34m()\u001b[0m\n\u001b[0;32m----> 1\u001b[0;31m \u001b[0;34m''\u001b[0m\u001b[0;34m.\u001b[0m\u001b[0mjoin\u001b[0m\u001b[0;34m(\u001b[0m\u001b[0mseq\u001b[0m\u001b[0;34m)\u001b[0m\u001b[0;34m\u001b[0m\u001b[0;34m\u001b[0m\u001b[0m\n\u001b[0m",
            "\u001b[0;31mNameError\u001b[0m: name 'seq' is not defined"
          ]
        }
      ]
    },
    {
      "cell_type": "code",
      "metadata": {
        "id": "TGHHmSjDZ4FV"
      },
      "source": [
        ""
      ],
      "execution_count": null,
      "outputs": []
    }
  ]
}